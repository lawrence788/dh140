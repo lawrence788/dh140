{
 "cells": [
  {
   "cell_type": "markdown",
   "id": "072b1716-1ad4-4f2b-a31b-d27aae04fcbe",
   "metadata": {},
   "source": [
    "# Homework 5: Web Scraping\n",
    "\n",
    "## Larry Qu"
   ]
  },
  {
   "cell_type": "code",
   "execution_count": 44,
   "id": "dc3a78eb-b903-49fb-973c-96a311129923",
   "metadata": {},
   "outputs": [
    {
     "name": "stdout",
     "output_type": "stream",
     "text": [
      "   death                  name  awarded.General Order number  \\\n",
      "0   True   Sagelhurst, John C.                            -1   \n",
      "1   True            Hack, John                            -1   \n",
      "2   True    Carson, Anthony J.                            -1   \n",
      "3   True  Defranzos, Arthur F.                             1   \n",
      "4   True   Kessler, Patrick L.                             1   \n",
      "\n",
      "  awarded.accredited to                                   awarded.citation  \\\n",
      "0                   NaN  Under a heavy fire from the enemy carried off ...   \n",
      "1                   NaN  Was one of a party which volunteered and attem...   \n",
      "2                   NaN  Assumed command of a detachment of the company...   \n",
      "3                   NaN  For conspicuous gallantry and intrepidity at t...   \n",
      "4                   NaN  For conspicuous gallantry and intrepidity at r...   \n",
      "\n",
      "  awarded.issued birth.location name  \\\n",
      "0     01/03/1906       Buffalo, N.Y.   \n",
      "1     01/03/1907       1843, Germany   \n",
      "2     01/04/1906       Boston, Mass.   \n",
      "3     01/04/1945       Saugus, Mass.   \n",
      "4     01/04/1945    Middletown, Ohio   \n",
      "\n",
      "                                       metadata.link military record.company  \\\n",
      "0  http://www.cmohs.org/recipient-detail/1176/sag...               Company B   \n",
      "1  http://www.cmohs.org/recipient-detail/537/hack...               Company B   \n",
      "2  http://www.cmohs.org/recipient-detail/2211/car...               Company H   \n",
      "3  http://www.cmohs.org/recipient-detail/2710/def...                     NaN   \n",
      "4  http://www.cmohs.org/recipient-detail/2824/kes...               Company K   \n",
      "\n",
      "              military record.division  ... awarded.date.day  \\\n",
      "0               1st New Jersey Cavalry  ...                6   \n",
      "1                   47th Ohio Infantry  ...                3   \n",
      "2                         43d Infantry  ...               -1   \n",
      "3                1st Infantry Division  ...               10   \n",
      "4  30th Infantry, 3d Infantry Division  ...               23   \n",
      "\n",
      "  awarded.date.full awarded.date.month  awarded.date.year  \\\n",
      "0          1865-2-6                  2               1865   \n",
      "1          1863-5-3                  5               1863   \n",
      "2          -1--1--1                 -1                 -1   \n",
      "3         1944-6-10                  6               1944   \n",
      "4         1944-5-23                  5               1944   \n",
      "\n",
      "  awarded.location.latitude  awarded.location.longitude  \\\n",
      "0                        38                         -77   \n",
      "1                        32                         -90   \n",
      "2                        10                         124   \n",
      "3                        49                           0   \n",
      "4                        43                          11   \n",
      "\n",
      "                         awarded.location.name  birth.date.day  \\\n",
      "0  Hatchers Run Court, Stafford, VA 22554, USA              -1   \n",
      "1                           Vicksburg, MS, USA              -1   \n",
      "2                           Leyte, Philippines              -1   \n",
      "3                       14490 Vaubadon, France              -1   \n",
      "4                  50026 Ponte Rotto FI, Italy              -1   \n",
      "\n",
      "   birth.date.month birth.date.year  \n",
      "0                -1              -1  \n",
      "1                -1              -1  \n",
      "2                -1              -1  \n",
      "3                -1              -1  \n",
      "4                -1              -1  \n",
      "\n",
      "[5 rows x 23 columns]\n"
     ]
    },
    {
     "data": {
      "image/png": "[encoded data removed]",
      "text/plain": [
       "<Figure size 432x288 with 1 Axes>"
      ]
     },
     "metadata": {
      "needs_background": "light"
     },
     "output_type": "display_data"
    },
    {
     "data": {
      "image/png": "[encoded data removed]",
      "text/plain": [
       "<Figure size 432x288 with 1 Axes>"
      ]
     },
     "metadata": {
      "needs_background": "light"
     },
     "output_type": "display_data"
    }
   ],
   "source": [
    "#Step 2: Use requests and BeautifulSoup to make a list of all the CORGIS datasets.\n",
    "\n",
    "import requests\n",
    "import pandas as pd\n",
    "from bs4 import BeautifulSoup\n",
    "\n",
    "response = requests.get(\"https://corgis-edu.github.io/corgis/csv/\")\n",
    "document = BeautifulSoup(response.text, \"html.parser\")\n",
    "docNames = []\n",
    "for doc in document.find_all('h3'):\n",
    "    docNames.append(doc.text.strip())\n",
    "        \n",
    "    \n",
    "#Step 3: Write a function that takes an element from the list of CORGIS datasets, \n",
    "#searches the respective CORGIS page for the CSV download link, and returns a Pandas dataframe.\n",
    "\n",
    "def pdcorgis(csvName):\n",
    "    link = \"https://corgis-edu.github.io/corgis/csv/\" + csvName.lower().replace(\" \", \"_\") + \"/\"\n",
    "    response = requests.get(link)\n",
    "    document = BeautifulSoup(response.text, \"html.parser\")\n",
    "    linkElements = document.find_all('a')\n",
    "    #print(linkElements)\n",
    "    rest = \"\"\n",
    "    for i in linkElements:\n",
    "        if i.has_attr('download'):\n",
    "            rest = i['href']\n",
    "            break\n",
    "            \n",
    "    downloadLink = link + rest\n",
    "    return pd.read_csv(downloadLink)\n",
    "\n",
    "#df = pdcorgis(\"Classics\")\n",
    "#print(df.head())\n",
    "#print(docNames)\n",
    "\n",
    "\n",
    "#Step 4: Using dataframes returned by your new function, make a line plot, a bar plot, and a histogram plot\n",
    "\n",
    "#dataset1, bar plot\n",
    "df1 = pdcorgis(\"Billionaires\")\n",
    "#print(df1.head())\n",
    "a = df1[[\"company.founded\", \"name\"]].iloc[:10]\n",
    "a.plot(kind=\"barh\", x=\"name\", y=\"company.founded\")\n",
    "\n",
    "#dataset2\n",
    "df2 = pdcorgis(\"Cars\")\n",
    "#print(df2.head())\n",
    "b = df2[[\"Dimensions.Height\"]].iloc[:10]\n",
    "b.plot(kind=\"hist\", y=\"Dimensions.Height\")\n",
    "\n",
    "#dataset3\n",
    "df3 = pdcorgis(\"Medal Of Honor\")\n",
    "print(df3.head())\n",
    "\n"
   ]
  },
  {
   "cell_type": "code",
   "execution_count": null,
   "id": "8ebbe973-4d1d-4ffe-afaf-c0f7c9c6846a",
   "metadata": {},
   "outputs": [],
   "source": []
  },
  {
   "cell_type": "code",
   "execution_count": null,
   "id": "a9a84653-d254-49a1-a292-adbfa93dfefc",
   "metadata": {},
   "outputs": [],
   "source": []
  }
 ],
 "metadata": {
  "kernelspec": {
   "display_name": "Python 3 (ipykernel)",
   "language": "python",
   "name": "python3"
  },
  "language_info": {
   "codemirror_mode": {
    "name": "ipython",
    "version": 3
   },
   "file_extension": ".py",
   "mimetype": "text/x-python",
   "name": "python",
   "nbconvert_exporter": "python",
   "pygments_lexer": "ipython3",
   "version": "3.9.6"
  }
 },
 "nbformat": 4,
 "nbformat_minor": 5
}
