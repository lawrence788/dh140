{
 "cells": [
  {
   "cell_type": "markdown",
   "id": "dc1da26d-1ab4-424f-a688-2d86f07e385c",
   "metadata": {
    "tags": []
   },
   "source": [
    "# Homework 7: Stats and Modeling\n",
    "\n",
    "## Larry Qu"
   ]
  },
  {
   "cell_type": "markdown",
   "id": "584a5ed8-ae78-45e6-8bc8-0bdbdf5e9778",
   "metadata": {},
   "source": [
    "## Step 2"
   ]
  },
  {
   "cell_type": "code",
   "execution_count": 26,
   "id": "596e3486-b492-4265-ae2b-8fdbad841e08",
   "metadata": {},
   "outputs": [
    {
     "name": "stderr",
     "output_type": "stream",
     "text": [
      "[nltk_data] Downloading package stopwords to /home/jovyan/nltk_data...\n",
      "[nltk_data]   Package stopwords is already up-to-date!\n"
     ]
    },
    {
     "name": "stdout",
     "output_type": "stream",
     "text": [
      "Mean: 5.08317651486639\n",
      "Median: 2.0\n",
      "Mode: 0    1\n",
      "dtype: int64\n",
      "Trimmed mean after removing bottom and top 10%: [2.44663846]\n"
     ]
    },
    {
     "data": {
      "text/plain": [
       "<AxesSubplot:ylabel='Frequency'>"
      ]
     },
     "execution_count": 26,
     "metadata": {},
     "output_type": "execute_result"
    },
    {
     "data": {
      "image/png": "[encoded data removed]",
      "text/plain": [
       "<Figure size 432x288 with 1 Axes>"
      ]
     },
     "metadata": {
      "needs_background": "light"
     },
     "output_type": "display_data"
    }
   ],
   "source": [
    "import requests\n",
    "import pandas as pd\n",
    "import nltk\n",
    "from bs4 import BeautifulSoup\n",
    "from nltk.tokenize import word_tokenize, sent_tokenize\n",
    "from nltk.corpus import stopwords\n",
    "from string import punctuation\n",
    "nltk.download('stopwords')\n",
    "from nltk.probability import FreqDist\n",
    "from nltk.stem.lancaster import LancasterStemmer\n",
    "from scipy import stats\n",
    "\n",
    "\n",
    "#Shakespeare word frequency\n",
    "\n",
    "#get the text for Romeo and Juliet\n",
    "response = requests.get(\"http://shakespeare.mit.edu/romeo_juliet/full.html\")\n",
    "document = BeautifulSoup(response.text, \"html.parser\")\n",
    "text = \"\"\n",
    "for doc in document.find_all('blockquote'):\n",
    "    text += (doc.text.strip())\n",
    "    text += (\" \")\n",
    "#print(text)\n",
    "    \n",
    "#tokenize the words\n",
    "sent = sent_tokenize(text)\n",
    "words = []\n",
    "for s in sent:\n",
    "    for w in word_tokenize(s):\n",
    "        words.append(w)\n",
    "#print(len(words))\n",
    "#print(words)\n",
    "        \n",
    "#remove stopwords\n",
    "myStopWords = list(punctuation) + stopwords.words('english')\n",
    "wordsNoStop = []\n",
    "for i in words:\n",
    "    if i.lower() not in myStopWords:\n",
    "        wordsNoStop.append(i)\n",
    "#print(wordsNoStop)\n",
    "#print(myStopWords)\n",
    "\n",
    "wordStems = [LancasterStemmer().stem(w) for w in wordsNoStop]\n",
    "\n",
    "freq = FreqDist(wordStems)\n",
    "#for j in sorted(freq, key=freq.get, reverse=True)[:20]:\n",
    "    #print(j,freq[j])\n",
    "    \n",
    "df = pd.DataFrame.from_dict(freq, orient='index')\n",
    "df.columns = ['Frequency']\n",
    "df.index.name = 'Term'\n",
    "#print(df)\n",
    "    \n",
    "print(\"Mean: \" + str(df['Frequency'].mean()))\n",
    "print(\"Median: \" + str(df['Frequency'].median()))\n",
    "print(\"Mode: \" + str(df['Frequency'].mode()))\n",
    "print(\"Trimmed mean after removing bottom and top 10%: \" + str(stats.trim_mean(df, 0.1))    )\n",
    "\n",
    "df.plot(kind='hist',\n",
    "        y='Frequency', bins=100, range=[df['Frequency'].min(), df['Frequency'].max()])"
   ]
  },
  {
   "cell_type": "markdown",
   "id": "2e3fed06-b12a-4157-9763-2c4cf30bb1ec",
   "metadata": {},
   "source": [
    "After removing the top and bottom 10% of the dataset for the trimmed mean, the mean is now 2.4. The untrimmed mean was 5.1. This means that there are many outliers that are very large.\n",
    "\n",
    "The mean is on the far left side of the frequencies. The median is to the left of the mean. The mode is the farthest to the left. The trimmed mean is greater than the median but less than the untrimmed mean. "
   ]
  },
  {
   "cell_type": "code",
   "execution_count": 32,
   "id": "86506603-0a3c-4bd6-81ab-dac68a7aa5a9",
   "metadata": {},
   "outputs": [
    {
     "name": "stdout",
     "output_type": "stream",
     "text": [
      "Standard deviation: 13.517511762277106\n",
      "Interquartile range: 3.0\n"
     ]
    }
   ],
   "source": [
    "print(\"Standard deviation: \" + str(df['Frequency'].std()) )\n",
    "print(\"Interquartile range: \" + str(df['Frequency'].quantile(0.75)  - df['Frequency'].quantile(0.25) ) )"
   ]
  },
  {
   "cell_type": "markdown",
   "id": "3099fed7-5f61-46cd-81c5-253ed95a234d",
   "metadata": {},
   "source": [
    "The interquartile range is less than the standard deviation. The standard deviation is higher, since the data is spread out a lot across the mean. However, the middle 50%, the interquartile range, is not very spread out. We can see all this in the histogram."
   ]
  },
  {
   "cell_type": "markdown",
   "id": "e279e963-b709-4d88-bc42-aae48afcad45",
   "metadata": {},
   "source": [
    "## Step 3: "
   ]
  },
  {
   "cell_type": "code",
   "execution_count": null,
   "id": "de8c5cf3-3311-4e46-911d-175f9616d486",
   "metadata": {},
   "outputs": [],
   "source": []
  }
 ],
 "metadata": {
  "kernelspec": {
   "display_name": "Python 3 (ipykernel)",
   "language": "python",
   "name": "python3"
  },
  "language_info": {
   "codemirror_mode": {
    "name": "ipython",
    "version": 3
   },
   "file_extension": ".py",
   "mimetype": "text/x-python",
   "name": "python",
   "nbconvert_exporter": "python",
   "pygments_lexer": "ipython3",
   "version": "3.9.6"
  }
 },
 "nbformat": 4,
 "nbformat_minor": 5
}
