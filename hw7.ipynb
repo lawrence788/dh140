{
 "cells": [
  {
   "cell_type": "markdown",
   "id": "dc1da26d-1ab4-424f-a688-2d86f07e385c",
   "metadata": {
    "tags": []
   },
   "source": [
    "# Homework 7: Stats and Modeling\n",
    "\n",
    "## Larry Qu"
   ]
  },
  {
   "cell_type": "markdown",
   "id": "584a5ed8-ae78-45e6-8bc8-0bdbdf5e9778",
   "metadata": {},
   "source": [
    "## Step 2"
   ]
  },
  {
   "cell_type": "code",
   "execution_count": 26,
   "id": "596e3486-b492-4265-ae2b-8fdbad841e08",
   "metadata": {},
   "outputs": [
    {
     "name": "stderr",
     "output_type": "stream",
     "text": [
      "[nltk_data] Downloading package stopwords to /home/jovyan/nltk_data...\n",
      "[nltk_data]   Package stopwords is already up-to-date!\n"
     ]
    },
    {
     "name": "stdout",
     "output_type": "stream",
     "text": [
      "Mean: 5.08317651486639\n",
      "Median: 2.0\n",
      "Mode: 0    1\n",
      "dtype: int64\n",
      "Trimmed mean after removing bottom and top 10%: [2.44663846]\n"
     ]
    },
    {
     "data": {
      "text/plain": [
       "<AxesSubplot:ylabel='Frequency'>"
      ]
     },
     "execution_count": 26,
     "metadata": {},
     "output_type": "execute_result"
    },
    {
     "data": {
      "image/png": "[encoded data removed]",
      "text/plain": [
       "<Figure size 432x288 with 1 Axes>"
      ]
     },
     "metadata": {
      "needs_background": "light"
     },
     "output_type": "display_data"
    }
   ],
   "source": [
    "import requests\n",
    "import pandas as pd\n",
    "import nltk\n",
    "from bs4 import BeautifulSoup\n",
    "from nltk.tokenize import word_tokenize, sent_tokenize\n",
    "from nltk.corpus import stopwords\n",
    "from string import punctuation\n",
    "nltk.download('stopwords')\n",
    "from nltk.probability import FreqDist\n",
    "from nltk.stem.lancaster import LancasterStemmer\n",
    "from scipy import stats\n",
    "\n",
    "\n",
    "#Shakespeare word frequency\n",
    "\n",
    "#get the text for Romeo and Juliet\n",
    "response = requests.get(\"http://shakespeare.mit.edu/romeo_juliet/full.html\")\n",
    "document = BeautifulSoup(response.text, \"html.parser\")\n",
    "text = \"\"\n",
    "for doc in document.find_all('blockquote'):\n",
    "    text += (doc.text.strip())\n",
    "    text += (\" \")\n",
    "#print(text)\n",
    "    \n",
    "#tokenize the words\n",
    "sent = sent_tokenize(text)\n",
    "words = []\n",
    "for s in sent:\n",
    "    for w in word_tokenize(s):\n",
    "        words.append(w)\n",
    "#print(len(words))\n",
    "#print(words)\n",
    "        \n",
    "#remove stopwords\n",
    "myStopWords = list(punctuation) + stopwords.words('english')\n",
    "wordsNoStop = []\n",
    "for i in words:\n",
    "    if i.lower() not in myStopWords:\n",
    "        wordsNoStop.append(i)\n",
    "#print(wordsNoStop)\n",
    "#print(myStopWords)\n",
    "\n",
    "wordStems = [LancasterStemmer().stem(w) for w in wordsNoStop]\n",
    "\n",
    "freq = FreqDist(wordStems)\n",
    "#for j in sorted(freq, key=freq.get, reverse=True)[:20]:\n",
    "    #print(j,freq[j])\n",
    "    \n",
    "df = pd.DataFrame.from_dict(freq, orient='index')\n",
    "df.columns = ['Frequency']\n",
    "df.index.name = 'Term'\n",
    "#print(df)\n",
    "    \n",
    "print(\"Mean: \" + str(df['Frequency'].mean()))\n",
    "print(\"Median: \" + str(df['Frequency'].median()))\n",
    "print(\"Mode: \" + str(df['Frequency'].mode()))\n",
    "print(\"Trimmed mean after removing bottom and top 10%: \" + str(stats.trim_mean(df, 0.1))    )\n",
    "\n",
    "df.plot(kind='hist',\n",
    "        y='Frequency', bins=100, range=[df['Frequency'].min(), df['Frequency'].max()])"
   ]
  },
  {
   "cell_type": "markdown",
   "id": "2e3fed06-b12a-4157-9763-2c4cf30bb1ec",
   "metadata": {},
   "source": [
    "After removing the top and bottom 10% of the dataset for the trimmed mean, the mean is now 2.4. The untrimmed mean was 5.1. This means that there are many outliers that are very large.\n",
    "\n",
    "The mean is on the far left side of the frequencies. The median is to the left of the mean. The mode is the farthest to the left. The trimmed mean is greater than the median but less than the untrimmed mean. "
   ]
  },
  {
   "cell_type": "code",
   "execution_count": 32,
   "id": "86506603-0a3c-4bd6-81ab-dac68a7aa5a9",
   "metadata": {},
   "outputs": [
    {
     "name": "stdout",
     "output_type": "stream",
     "text": [
      "Standard deviation: 13.517511762277106\n",
      "Interquartile range: 3.0\n"
     ]
    }
   ],
   "source": [
    "print(\"Standard deviation: \" + str(df['Frequency'].std()) )\n",
    "print(\"Interquartile range: \" + str(df['Frequency'].quantile(0.75)  - df['Frequency'].quantile(0.25) ) )"
   ]
  },
  {
   "cell_type": "markdown",
   "id": "3099fed7-5f61-46cd-81c5-253ed95a234d",
   "metadata": {},
   "source": [
    "The interquartile range is less than the standard deviation. The standard deviation is higher, since the data is spread out a lot across the mean. However, the middle 50%, the interquartile range, is not very spread out. We can see all this in the histogram."
   ]
  },
  {
   "cell_type": "markdown",
   "id": "e279e963-b709-4d88-bc42-aae48afcad45",
   "metadata": {},
   "source": [
    "## Step 3: "
   ]
  },
  {
   "cell_type": "code",
   "execution_count": 1,
   "id": "de8c5cf3-3311-4e46-911d-175f9616d486",
   "metadata": {},
   "outputs": [
    {
     "name": "stdout",
     "output_type": "stream",
     "text": [
      ".. _diabetes_dataset:\n",
      "\n",
      "Diabetes dataset\n",
      "----------------\n",
      "\n",
      "Ten baseline variables, age, sex, body mass index, average blood\n",
      "pressure, and six blood serum measurements were obtained for each of n =\n",
      "442 diabetes patients, as well as the response of interest, a\n",
      "quantitative measure of disease progression one year after baseline.\n",
      "\n",
      "**Data Set Characteristics:**\n",
      "\n",
      "  :Number of Instances: 442\n",
      "\n",
      "  :Number of Attributes: First 10 columns are numeric predictive values\n",
      "\n",
      "  :Target: Column 11 is a quantitative measure of disease progression one year after baseline\n",
      "\n",
      "  :Attribute Information:\n",
      "      - age     age in years\n",
      "      - sex\n",
      "      - bmi     body mass index\n",
      "      - bp      average blood pressure\n",
      "      - s1      tc, total serum cholesterol\n",
      "      - s2      ldl, low-density lipoproteins\n",
      "      - s3      hdl, high-density lipoproteins\n",
      "      - s4      tch, total cholesterol / HDL\n",
      "      - s5      ltg, possibly log of serum triglycerides level\n",
      "      - s6      glu, blood sugar level\n",
      "\n",
      "Note: Each of these 10 feature variables have been mean centered and scaled by the standard deviation times `n_samples` (i.e. the sum of squares of each column totals 1).\n",
      "\n",
      "Source URL:\n",
      "https://www4.stat.ncsu.edu/~boos/var.select/diabetes.html\n",
      "\n",
      "For more information see:\n",
      "Bradley Efron, Trevor Hastie, Iain Johnstone and Robert Tibshirani (2004) \"Least Angle Regression,\" Annals of Statistics (with discussion), 407-499.\n",
      "(https://web.stanford.edu/~hastie/Papers/LARS/LeastAngle_2002.pdf)\n"
     ]
    }
   ],
   "source": [
    "from sklearn import datasets\n",
    "df = datasets.load_diabetes(as_frame=True) \n",
    "features_df = df.data\n",
    "target_df = df.target\n",
    "\n",
    "print(df.DESCR)\n"
   ]
  },
  {
   "cell_type": "code",
   "execution_count": 5,
   "id": "7b68e394-27cc-439d-938c-d17ded49d2a1",
   "metadata": {},
   "outputs": [
    {
     "data": {
      "text/html": [
       "<div>\n",
       "<style scoped>\n",
       "    .dataframe tbody tr th:only-of-type {\n",
       "        vertical-align: middle;\n",
       "    }\n",
       "\n",
       "    .dataframe tbody tr th {\n",
       "        vertical-align: top;\n",
       "    }\n",
       "\n",
       "    .dataframe thead th {\n",
       "        text-align: right;\n",
       "    }\n",
       "</style>\n",
       "<table border=\"1\" class=\"dataframe\">\n",
       "  <thead>\n",
       "    <tr style=\"text-align: right;\">\n",
       "      <th></th>\n",
       "      <th>age</th>\n",
       "      <th>sex</th>\n",
       "      <th>bmi</th>\n",
       "      <th>bp</th>\n",
       "      <th>s1</th>\n",
       "      <th>s2</th>\n",
       "      <th>s3</th>\n",
       "      <th>s4</th>\n",
       "      <th>s5</th>\n",
       "      <th>s6</th>\n",
       "    </tr>\n",
       "  </thead>\n",
       "  <tbody>\n",
       "    <tr>\n",
       "      <th>count</th>\n",
       "      <td>4.420000e+02</td>\n",
       "      <td>4.420000e+02</td>\n",
       "      <td>4.420000e+02</td>\n",
       "      <td>4.420000e+02</td>\n",
       "      <td>4.420000e+02</td>\n",
       "      <td>4.420000e+02</td>\n",
       "      <td>4.420000e+02</td>\n",
       "      <td>4.420000e+02</td>\n",
       "      <td>4.420000e+02</td>\n",
       "      <td>4.420000e+02</td>\n",
       "    </tr>\n",
       "    <tr>\n",
       "      <th>mean</th>\n",
       "      <td>-3.634285e-16</td>\n",
       "      <td>1.308343e-16</td>\n",
       "      <td>-8.045349e-16</td>\n",
       "      <td>1.281655e-16</td>\n",
       "      <td>-8.835316e-17</td>\n",
       "      <td>1.327024e-16</td>\n",
       "      <td>-4.574646e-16</td>\n",
       "      <td>3.777301e-16</td>\n",
       "      <td>-3.830854e-16</td>\n",
       "      <td>-3.412882e-16</td>\n",
       "    </tr>\n",
       "    <tr>\n",
       "      <th>std</th>\n",
       "      <td>4.761905e-02</td>\n",
       "      <td>4.761905e-02</td>\n",
       "      <td>4.761905e-02</td>\n",
       "      <td>4.761905e-02</td>\n",
       "      <td>4.761905e-02</td>\n",
       "      <td>4.761905e-02</td>\n",
       "      <td>4.761905e-02</td>\n",
       "      <td>4.761905e-02</td>\n",
       "      <td>4.761905e-02</td>\n",
       "      <td>4.761905e-02</td>\n",
       "    </tr>\n",
       "    <tr>\n",
       "      <th>min</th>\n",
       "      <td>-1.072256e-01</td>\n",
       "      <td>-4.464164e-02</td>\n",
       "      <td>-9.027530e-02</td>\n",
       "      <td>-1.123996e-01</td>\n",
       "      <td>-1.267807e-01</td>\n",
       "      <td>-1.156131e-01</td>\n",
       "      <td>-1.023071e-01</td>\n",
       "      <td>-7.639450e-02</td>\n",
       "      <td>-1.260974e-01</td>\n",
       "      <td>-1.377672e-01</td>\n",
       "    </tr>\n",
       "    <tr>\n",
       "      <th>25%</th>\n",
       "      <td>-3.729927e-02</td>\n",
       "      <td>-4.464164e-02</td>\n",
       "      <td>-3.422907e-02</td>\n",
       "      <td>-3.665645e-02</td>\n",
       "      <td>-3.424784e-02</td>\n",
       "      <td>-3.035840e-02</td>\n",
       "      <td>-3.511716e-02</td>\n",
       "      <td>-3.949338e-02</td>\n",
       "      <td>-3.324879e-02</td>\n",
       "      <td>-3.317903e-02</td>\n",
       "    </tr>\n",
       "    <tr>\n",
       "      <th>50%</th>\n",
       "      <td>5.383060e-03</td>\n",
       "      <td>-4.464164e-02</td>\n",
       "      <td>-7.283766e-03</td>\n",
       "      <td>-5.670611e-03</td>\n",
       "      <td>-4.320866e-03</td>\n",
       "      <td>-3.819065e-03</td>\n",
       "      <td>-6.584468e-03</td>\n",
       "      <td>-2.592262e-03</td>\n",
       "      <td>-1.947634e-03</td>\n",
       "      <td>-1.077698e-03</td>\n",
       "    </tr>\n",
       "    <tr>\n",
       "      <th>75%</th>\n",
       "      <td>3.807591e-02</td>\n",
       "      <td>5.068012e-02</td>\n",
       "      <td>3.124802e-02</td>\n",
       "      <td>3.564384e-02</td>\n",
       "      <td>2.835801e-02</td>\n",
       "      <td>2.984439e-02</td>\n",
       "      <td>2.931150e-02</td>\n",
       "      <td>3.430886e-02</td>\n",
       "      <td>3.243323e-02</td>\n",
       "      <td>2.791705e-02</td>\n",
       "    </tr>\n",
       "    <tr>\n",
       "      <th>max</th>\n",
       "      <td>1.107267e-01</td>\n",
       "      <td>5.068012e-02</td>\n",
       "      <td>1.705552e-01</td>\n",
       "      <td>1.320442e-01</td>\n",
       "      <td>1.539137e-01</td>\n",
       "      <td>1.987880e-01</td>\n",
       "      <td>1.811791e-01</td>\n",
       "      <td>1.852344e-01</td>\n",
       "      <td>1.335990e-01</td>\n",
       "      <td>1.356118e-01</td>\n",
       "    </tr>\n",
       "  </tbody>\n",
       "</table>\n",
       "</div>"
      ],
      "text/plain": [
       "                age           sex           bmi            bp            s1  \\\n",
       "count  4.420000e+02  4.420000e+02  4.420000e+02  4.420000e+02  4.420000e+02   \n",
       "mean  -3.634285e-16  1.308343e-16 -8.045349e-16  1.281655e-16 -8.835316e-17   \n",
       "std    4.761905e-02  4.761905e-02  4.761905e-02  4.761905e-02  4.761905e-02   \n",
       "min   -1.072256e-01 -4.464164e-02 -9.027530e-02 -1.123996e-01 -1.267807e-01   \n",
       "25%   -3.729927e-02 -4.464164e-02 -3.422907e-02 -3.665645e-02 -3.424784e-02   \n",
       "50%    5.383060e-03 -4.464164e-02 -7.283766e-03 -5.670611e-03 -4.320866e-03   \n",
       "75%    3.807591e-02  5.068012e-02  3.124802e-02  3.564384e-02  2.835801e-02   \n",
       "max    1.107267e-01  5.068012e-02  1.705552e-01  1.320442e-01  1.539137e-01   \n",
       "\n",
       "                 s2            s3            s4            s5            s6  \n",
       "count  4.420000e+02  4.420000e+02  4.420000e+02  4.420000e+02  4.420000e+02  \n",
       "mean   1.327024e-16 -4.574646e-16  3.777301e-16 -3.830854e-16 -3.412882e-16  \n",
       "std    4.761905e-02  4.761905e-02  4.761905e-02  4.761905e-02  4.761905e-02  \n",
       "min   -1.156131e-01 -1.023071e-01 -7.639450e-02 -1.260974e-01 -1.377672e-01  \n",
       "25%   -3.035840e-02 -3.511716e-02 -3.949338e-02 -3.324879e-02 -3.317903e-02  \n",
       "50%   -3.819065e-03 -6.584468e-03 -2.592262e-03 -1.947634e-03 -1.077698e-03  \n",
       "75%    2.984439e-02  2.931150e-02  3.430886e-02  3.243323e-02  2.791705e-02  \n",
       "max    1.987880e-01  1.811791e-01  1.852344e-01  1.335990e-01  1.356118e-01  "
      ]
     },
     "execution_count": 5,
     "metadata": {},
     "output_type": "execute_result"
    }
   ],
   "source": [
    "features_df.describe()\n"
   ]
  },
  {
   "cell_type": "code",
   "execution_count": 6,
   "id": "0b105752-90ae-47df-ba9c-561e5aafb0bb",
   "metadata": {},
   "outputs": [
    {
     "data": {
      "text/plain": [
       "count    442.000000\n",
       "mean     152.133484\n",
       "std       77.093005\n",
       "min       25.000000\n",
       "25%       87.000000\n",
       "50%      140.500000\n",
       "75%      211.500000\n",
       "max      346.000000\n",
       "Name: target, dtype: float64"
      ]
     },
     "execution_count": 6,
     "metadata": {},
     "output_type": "execute_result"
    }
   ],
   "source": [
    "target_df.describe()"
   ]
  },
  {
   "cell_type": "code",
   "execution_count": 12,
   "id": "eac2a8f1-be5d-4522-a529-ca326d03c440",
   "metadata": {},
   "outputs": [
    {
     "name": "stdout",
     "output_type": "stream",
     "text": [
      "age 0.18788875071891983\n",
      "sex 0.0430619984516054\n",
      "bmi 0.5864501344746891\n",
      "bp 0.4414838489308862\n",
      "s1 0.2120224810145508\n",
      "s2 0.17405358696874249\n",
      "s3 -0.39478925067091847\n",
      "s4 0.4304528847447734\n",
      "s5 0.5658834252428094\n",
      "s6 0.3824834842485812\n"
     ]
    }
   ],
   "source": [
    "for column in features_df:\n",
    "    print(column, features_df[column].corr(target_df))\n",
    "    \n",
    "#bmi has the largest correlation coefficient with the target values"
   ]
  },
  {
   "cell_type": "code",
   "execution_count": 15,
   "id": "8fa90bed-2275-4e98-bd06-1e4882caf177",
   "metadata": {},
   "outputs": [
    {
     "data": {
      "text/plain": [
       "<matplotlib.collections.PathCollection at 0x7f5a1ef59550>"
      ]
     },
     "execution_count": 15,
     "metadata": {},
     "output_type": "execute_result"
    },
    {
     "data": {
      "image/png": "[encoded data removed]",
      "text/plain": [
       "<Figure size 432x288 with 1 Axes>"
      ]
     },
     "metadata": {
      "needs_background": "light"
     },
     "output_type": "display_data"
    }
   ],
   "source": [
    "import matplotlib.pyplot as plt\n",
    "plt.scatter(features_df[\"bmi\"], target_df)\n"
   ]
  },
  {
   "cell_type": "markdown",
   "id": "f7bc4e60-c54c-4fd2-a536-4a42c875589d",
   "metadata": {},
   "source": [
    "The plotted points match up with the correlation coefficient in that they represent a positive correlation, which is consistent because the correlation coefficient is positive."
   ]
  },
  {
   "cell_type": "code",
   "execution_count": 19,
   "id": "f2657769-d419-4a9b-8c34-4609f73106da",
   "metadata": {},
   "outputs": [
    {
     "name": "stdout",
     "output_type": "stream",
     "text": [
      "[949.43526038]\n"
     ]
    }
   ],
   "source": [
    "from sklearn.linear_model import LinearRegression\n",
    "from sklearn.metrics import mean_squared_error, r2_score\n",
    "reg = LinearRegression().fit(features_df[[\"bmi\"]], target_df)\n",
    "\n",
    "print(reg.coef_)"
   ]
  },
  {
   "cell_type": "code",
   "execution_count": 21,
   "id": "e5a34581-431a-49d4-9dd8-b19e7ba05488",
   "metadata": {},
   "outputs": [
    {
     "data": {
      "image/png": "[encoded data removed]",
      "text/plain": [
       "<Figure size 432x288 with 1 Axes>"
      ]
     },
     "metadata": {
      "needs_background": "light"
     },
     "output_type": "display_data"
    }
   ],
   "source": [
    "reg.intercept_\n",
    "X  = features_df[[\"bmi\"]]\n",
    "y = target_df\n",
    "ytrain = reg.intercept_ + reg.coef_ * X\n",
    "plt.plot(X,y,'ro',X,ytrain,'b-');\n"
   ]
  },
  {
   "cell_type": "code",
   "execution_count": 22,
   "id": "01b4c448-f7ac-48c0-9466-9cf5e39066c1",
   "metadata": {},
   "outputs": [
    {
     "name": "stdout",
     "output_type": "stream",
     "text": [
      "mean squared error:  3890.4565854612724\n"
     ]
    }
   ],
   "source": [
    "print(\"mean squared error: \", mean_squared_error(y, ytrain))\n"
   ]
  },
  {
   "cell_type": "code",
   "execution_count": 24,
   "id": "5ee6f60b-ef36-4f8d-bf9f-1f15d0a0b09f",
   "metadata": {},
   "outputs": [
    {
     "name": "stdout",
     "output_type": "stream",
     "text": [
      "r-squared values:  0.3439237602253803\n"
     ]
    }
   ],
   "source": [
    "print(\"r-squared values: \", r2_score(y, ytrain) )"
   ]
  },
  {
   "cell_type": "code",
   "execution_count": 25,
   "id": "4c8a18bc-48d7-4817-964b-b4667735e244",
   "metadata": {},
   "outputs": [
    {
     "name": "stdout",
     "output_type": "stream",
     "text": [
      "mean squared error:  5720.5470172056475\n",
      "r-squared values:  0.03530218264671636\n"
     ]
    }
   ],
   "source": [
    "reg = LinearRegression().fit(features_df[[\"age\"]], target_df)\n",
    "X  = features_df[[\"age\"]]\n",
    "y = target_df\n",
    "ytrain = reg.intercept_ + reg.coef_ * X\n",
    "print(\"mean squared error: \", mean_squared_error(y, ytrain))\n",
    "print(\"r-squared values: \", r2_score(y, ytrain) )"
   ]
  },
  {
   "cell_type": "markdown",
   "id": "62da5df0-dd12-4bd5-be5d-f7652a298403",
   "metadata": {},
   "source": [
    "Doing linear regression with the \"age\" variable from the features dataframe, the mean squared error increased, and the r-squared values decreased. This is consistent with our findings, since \"bmi\" has the highest correlation coefficient and thus should have the best mean squared error and r-squared values. "
   ]
  },
  {
   "cell_type": "code",
   "execution_count": null,
   "id": "5b7c3c47-9a06-4cff-845c-fe874ffa77e9",
   "metadata": {},
   "outputs": [],
   "source": []
  }
 ],
 "metadata": {
  "kernelspec": {
   "display_name": "Python 3 (ipykernel)",
   "language": "python",
   "name": "python3"
  },
  "language_info": {
   "codemirror_mode": {
    "name": "ipython",
    "version": 3
   },
   "file_extension": ".py",
   "mimetype": "text/x-python",
   "name": "python",
   "nbconvert_exporter": "python",
   "pygments_lexer": "ipython3",
   "version": "3.9.6"
  }
 },
 "nbformat": 4,
 "nbformat_minor": 5
}
