{
 "cells": [
  {
   "cell_type": "markdown",
   "id": "7488d81e-fb14-4f15-860a-9d0927e5daa3",
   "metadata": {
    "tags": []
   },
   "source": [
    "# Homework 2: Data Analysis of Billionaires Data\n",
    "\n",
    "## Larry Qu\n",
    "Dataset: https://corgis-edu.github.io/corgis/csv/billionaires/"
   ]
  },
  {
   "cell_type": "code",
   "execution_count": null,
   "id": "d18bda46-d4c9-4dbf-bdef-fbcd6c296673",
   "metadata": {},
   "outputs": [],
   "source": [
    "#read the dataset\n",
    "\n",
    "#find out how much wealth the top 10 male billionaires have, aggregated\n",
    "\n",
    "#find out how much wealth the top 10 female billionaires have, aggregated\n",
    "\n",
    "#function to compare men vs women billionaires"
   ]
  }
 ],
 "metadata": {
  "kernelspec": {
   "display_name": "Python 3 (ipykernel)",
   "language": "python",
   "name": "python3"
  },
  "language_info": {
   "codemirror_mode": {
    "name": "ipython",
    "version": 3
   },
   "file_extension": ".py",
   "mimetype": "text/x-python",
   "name": "python",
   "nbconvert_exporter": "python",
   "pygments_lexer": "ipython3",
   "version": "3.9.6"
  }
 },
 "nbformat": 4,
 "nbformat_minor": 5
}
