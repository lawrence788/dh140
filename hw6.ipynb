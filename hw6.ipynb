{
 "cells": [
  {
   "cell_type": "markdown",
   "id": "75897c63-19bd-4e0f-94a3-95915d043100",
   "metadata": {},
   "source": [
    "# Homework 6: Text Analysis\n",
    "\n",
    "## Larry Qu"
   ]
  },
  {
   "cell_type": "markdown",
   "id": "6abf5f93-b30b-45f2-bad9-5092e4f1dcb2",
   "metadata": {},
   "source": [
    "## Shakespeare word frequency"
   ]
  },
  {
   "cell_type": "code",
   "execution_count": 25,
   "id": "410fa803-cf5b-4dbf-904a-1a4c18b2fc26",
   "metadata": {},
   "outputs": [
    {
     "name": "stderr",
     "output_type": "stream",
     "text": [
      "[nltk_data] Downloading package stopwords to /home/jovyan/nltk_data...\n",
      "[nltk_data]   Package stopwords is already up-to-date!\n"
     ]
    },
    {
     "name": "stdout",
     "output_type": "stream",
     "text": [
      "'s 266\n",
      "thou 240\n",
      "'d 156\n",
      "thy 150\n",
      "love 143\n",
      "thee 138\n",
      "Romeo 127\n",
      "shall 95\n",
      "'ll 90\n",
      "night 72\n",
      "Enter 71\n",
      "man 69\n",
      "-- 67\n",
      "good 65\n",
      "death 63\n",
      "come 61\n",
      "sir 54\n",
      "Tybalt 54\n",
      "would 53\n",
      "hath 52\n"
     ]
    }
   ],
   "source": [
    "import requests\n",
    "import pandas as pd\n",
    "import nltk\n",
    "from bs4 import BeautifulSoup\n",
    "from nltk.tokenize import word_tokenize, sent_tokenize\n",
    "from nltk.corpus import stopwords\n",
    "from string import punctuation\n",
    "nltk.download('stopwords')\n",
    "from nltk.probability import FreqDist\n",
    "\n",
    "#Shakespeare word frequency\n",
    "\n",
    "#get the text for Romeo and Juliet\n",
    "response = requests.get(\"http://shakespeare.mit.edu/romeo_juliet/full.html\")\n",
    "document = BeautifulSoup(response.text, \"html.parser\")\n",
    "text = \"\"\n",
    "for doc in document.find_all('blockquote'):\n",
    "    text += (doc.text.strip())\n",
    "    text += (\" \")\n",
    "#print(text)\n",
    "    \n",
    "#tokenize the words\n",
    "sent = sent_tokenize(text)\n",
    "words = []\n",
    "for s in sent:\n",
    "    for w in word_tokenize(s):\n",
    "        words.append(w)\n",
    "#print(len(words))\n",
    "#print(words)\n",
    "        \n",
    "#remove stopwords\n",
    "myStopWords = list(punctuation) + stopwords.words('english')\n",
    "wordsNoStop = []\n",
    "for i in words:\n",
    "    if i.lower() not in myStopWords:\n",
    "        wordsNoStop.append(i)\n",
    "#print(wordsNoStop)\n",
    "#print(myStopWords)\n",
    "\n",
    "freq = FreqDist(wordsNoStop)\n",
    "for j in sorted(freq, key=freq.get, reverse=True)[:20]:\n",
    "    print(j,freq[j])"
   ]
  },
  {
   "cell_type": "markdown",
   "id": "90393248-cbf9-4b6f-8573-f749cb1fa260",
   "metadata": {},
   "source": [
    "These words indeed give an accurate sense of the play, because the play is about love, which is one of the most frequent words. The play also involves the characters Romeo and Tybalt, which are also some of the most frequent words. The play features a lot of death,  which is also listed in the most frequent words. "
   ]
  },
  {
   "cell_type": "markdown",
   "id": "eaa36894-b65e-413d-86c1-934902fc35bc",
   "metadata": {},
   "source": [
    "## Yelp sentiments"
   ]
  },
  {
   "cell_type": "code",
   "execution_count": 34,
   "id": "648b24c4-9feb-4812-a2d9-34cb8742c988",
   "metadata": {},
   "outputs": [
    {
     "name": "stdout",
     "output_type": "stream",
     "text": [
      "Yelp stars: 3 Polarity compound score: 0.0\n",
      "Yelp stars: 3 Polarity compound score: 0.9032\n",
      "Yelp stars: 3 Polarity compound score: -0.0516\n",
      "Yelp stars: 1 Polarity compound score: 0.2866\n",
      "Yelp stars: 5 Polarity compound score: 0.9366\n",
      "Yelp stars: 2 Polarity compound score: 0.4939\n",
      "Yelp stars: 1 Polarity compound score: -0.4299\n",
      "Yelp stars: 1 Polarity compound score: 0.0\n",
      "Yelp stars: 5 Polarity compound score: 0.7362\n",
      "Yelp stars: 1 Polarity compound score: 0.6124\n",
      "Yelp stars: 1 Polarity compound score: -0.3082\n",
      "Yelp stars: 1 Polarity compound score: 0.7839\n",
      "Yelp stars: 3 Polarity compound score: 0.8955\n",
      "Yelp stars: 3 Polarity compound score: 0.8595\n",
      "Yelp stars: 4 Polarity compound score: 0.3802\n"
     ]
    },
    {
     "name": "stderr",
     "output_type": "stream",
     "text": [
      "[nltk_data] Downloading package vader_lexicon to\n",
      "[nltk_data]     /home/jovyan/nltk_data...\n",
      "[nltk_data]   Package vader_lexicon is already up-to-date!\n"
     ]
    }
   ],
   "source": [
    "from nltk.sentiment import vader\n",
    "nltk.download('vader_lexicon')\n",
    "\n",
    "\n",
    "reviews = [(3, \"\"\"If you're visiting this Panda Express, prepare to stand in line for a while, \n",
    "           especially during lunch hours. After UCLA re-opened, many of the other student \n",
    "           union restaurants remained closed, making this Panda Express location even longer \n",
    "           of a wait than normal (about 20 minutes).\"\"\"),\n",
    "           (3, \"\"\"Despite the long lines, the staff here do a great job of moving people along\n",
    "           quickly. Yes, the staff rarely spend time on pleasantries but they do get you in and\n",
    "           out as quickly as possible. The food is always hot and tastes like it was made fairly\n",
    "           recently. It's a good option, even when you have to wait a while.\"\"\"),\n",
    "           (3, \"\"\"Expect a long line when getting food here during lunch hour. Some of the staff\n",
    "           here are rude and snappy for no reason. Food here is good when it's warm, but it gets\n",
    "           cold quickly so eat it right after you get it.\"\"\"),\n",
    "           (1, \"\"\"This Panda Express is so depressingly cheap. For my $7 bowl of food, it is \n",
    "           half a bowl. The chow mein is one scoop. The chicken is half a scoop. I love how\n",
    "           to they to take some out instead of putting in extra.\"\"\"),\n",
    "           (5, \"\"\"I like this place I always ordered bowl chaw me in and sweet chicken . \n",
    "           Both was very delicious and good . Service was fast and place is clean\"\"\"),\n",
    "           (2, \"\"\"Chicken with mushroom was pretty oily and they gave me too much rice. \n",
    "            The line is always long during lunch time.\"\"\"),\n",
    "           (1, \"\"\"I got good recommendations about the orange chicken, so I tried it. \n",
    "           When I saw my meal of stir fried noodles and orange chicken, I instantly \n",
    "           regretted my purchase of $5-some. So not worth the money. The food is such\n",
    "           low quality, lower than other pandas because, well, it's in Ackerman.\"\"\"),\n",
    "           (1, \"\"\"The chicken was not crunchy, and the flavor was off. Too much sour\n",
    "           flavor, whatever that was. And the noodles were drier than they should have been. \n",
    "           I'm never going back here again.\"\"\"),\n",
    "           (5, \"\"\"I don't know why it is so poorly rated. Orange chicken, chao mien and \n",
    "           shrimp is so good here! But overall it is oily, so I won't think it is a healthy food place.\"\"\"),\n",
    "           (1, \"\"\"This location is always pretty busy around lunchtime and the only reason why \n",
    "           I give it a 1-star review is because the workers really do not know how to be polite\n",
    "           and considerate to their customers. Whenever I come, I always hesitate in whether I \n",
    "           should get Panda Express or not because of the workers who seem that they are just \n",
    "           concerned with getting through the line as fast possible.\"\"\"),\n",
    "           (1, \"\"\"The workers never really smile at you and always seem to be irritated.\n",
    "           They never make eye-contact with you either and are just not friendly overall. \n",
    "           The food is the same as other Panda Express locations. I would recommend just \n",
    "           ordering online and picking up your food as it's pretty convenient and you don't \n",
    "           need to deal with any of the employees.\"\"\"),\n",
    "            (1, \"\"\"Worst Panda Express ever, both good and services. The staff yelled at\n",
    "            everyone to move along, which I understand since it's on campus and there's \n",
    "            a huge line around leak hours. But when you ask something they were also just \n",
    "            repeat one sentence instead of being really helpful. Beef broccoli has all yellow \n",
    "            old broccoli that tasted sour then one fresh green broccoli as if to remind you \n",
    "            the rest were probably just yesterday leftover.\"\"\"),\n",
    "           (3, \"\"\"One complain I have about this location is that they are now excessively\n",
    "           asking for round-off donations for charity. Obviously this is a decision by the\n",
    "           management. They do have charity boxes for people to \"voluntarily\" put money right\n",
    "           there. But now instead of that voluntary choice, the cashiers will ask you every\n",
    "           single time you go there, if you want to round-off your purchase to give to charity.\n",
    "           No thank you! I make my own contributions to charity, without having a corporate \n",
    "           chain to funnel my money through.\"\"\"),\n",
    "           (3, \"\"\"The rice is really hard sometimes when I come here. The same with the\n",
    "           chowmein so I am assumed that stuff has been there for quite some time. However, \n",
    "           it still taste decent enough and is a quick and filling meal whenever I am craving\n",
    "           Chinese food around campus and can't leave for too long. The beef broccoli is\n",
    "           really good, the beef is quite tender but sometimes the broccoli taste undercooked. \n",
    "           The other entrees are good too but the teriyaki chicken can get a little too salty \n",
    "           so beware. You can always ask for the sauce on the side. That way you can protect \n",
    "           your taste buds.\"\"\"),\n",
    "           (4, \"\"\"It's Panda Express. It is American Chinese Food. It is Very quick and fast,\n",
    "           before the very long lines of Students get there.  Never ever a issue with this \n",
    "           Panda Express...except..No String Beans And Chicken at this location...BOO! Please \n",
    "           get this on the menu.\"\"\")         \n",
    "]\n",
    "\n",
    "sia = vader.SentimentIntensityAnalyzer()\n",
    "for review in reviews:\n",
    "    print(\"Yelp stars: \" + str(review[0]) + \" Polarity compound score: \" + str(sia.polarity_scores(review[1])['compound']) )\n",
    "\n"
   ]
  },
  {
   "cell_type": "markdown",
   "id": "4845ab21-9f98-47c9-8a61-458626105391",
   "metadata": {},
   "source": [
    "Vader's scores, compared against the user-specified number of stars, is generally accurate. The one star reviews generally correlated with low compound polarity scores, and the 4 and 5 start reviews generally correlated with high compound polarity scores. However, there were a few cases in which the polarity scores did not correspond well with the polarity scores of their respective reviews."
   ]
  },
  {
   "cell_type": "markdown",
   "id": "fb2316d7-bf75-4cc8-a472-79ec9fba14f3",
   "metadata": {},
   "source": [
    "## Your movie reviews"
   ]
  },
  {
   "cell_type": "code",
   "execution_count": 40,
   "id": "16d3a5d8-4fcd-49cd-967a-92f68df36ad2",
   "metadata": {},
   "outputs": [
    {
     "name": "stdout",
     "output_type": "stream",
     "text": [
      "Collecting gensim\n",
      "  Downloading gensim-4.1.2-cp39-cp39-manylinux_2_12_x86_64.manylinux2010_x86_64.whl (24.0 MB)\n",
      "\u001b[K     |████████████████████████████████| 24.0 MB 16.3 MB/s eta 0:00:01\n",
      "\u001b[?25hRequirement already satisfied: scipy>=0.18.1 in /opt/conda/lib/python3.9/site-packages (from gensim) (1.7.1)\n",
      "Requirement already satisfied: numpy>=1.17.0 in /opt/conda/lib/python3.9/site-packages (from gensim) (1.20.3)\n",
      "Collecting smart-open>=1.8.1\n",
      "  Downloading smart_open-5.2.1-py3-none-any.whl (58 kB)\n",
      "\u001b[K     |████████████████████████████████| 58 kB 2.4 MB/s  eta 0:00:01\n",
      "\u001b[?25hInstalling collected packages: smart-open, gensim\n",
      "Successfully installed gensim-4.1.2 smart-open-5.2.1\n"
     ]
    }
   ],
   "source": [
    "from pathlib import Path  \n",
    "import glob\n",
    "\n",
    "movie_reviews = [\"\"\"Harold and Kumar Go to White Castle is a stoner comedy that,\n",
    "while taking its protagonists through an increasingly bizarre and outlandish \n",
    "adventure, also puts them through the paces of the real world- the brutality \n",
    "of being part of a racial minority in the USA. \n",
    "Many movies have tried the unabashed comedy-social commentary combination, \n",
    "but none of them have gotten it as right as Harold and Kumar, which succeeds \n",
    "in both the departments. While the comedic value of a couple of near-surreal \n",
    "sequences was lost on me, the scenes with racial bullying and police brutality\n",
    "have been very well done, with the tension and simmering frustration cutting\n",
    "through the narcotic haze of its heroes. \"\"\",\n",
    "                \"\"\"The honesty doesn't end there- it's early 2000s and homophobia\n",
    "                is rampant (the movie itself indulges in some heavy queerbaiting) \n",
    "                while a man in his fantasies beats his wife for making bad coffee\n",
    "                and later gaslights her.\n",
    "Ultimately however, the movie takes too much on its plate and it gets a little too \n",
    "chaotic. It is clever and heart-warming; it just could have been funnier.\"\"\",\n",
    "                 \"\"\"I can't believe it took me so long to see this movie, especially \n",
    "                 since I have made a few late night runs to White Castle, even a few\n",
    "                 with my Indian buddy.  Although none as eventful and hysterical as\n",
    "                 this one.  Loved some of the smaller bits, like the guy peeing in \n",
    "                 the bushes in the middle of nowhere next to Kumar, and the Neil \n",
    "                 Patrick Harris bits. \"\"\",\n",
    "                 \"\"\"Ryan Reynolds as the nurse.  Good, clean, inappropriate humor.  \n",
    "                 Now that dope is legal, this would never happen where I live, but\n",
    "                 its a fun ride nonetheless.\"\"\",\n",
    "                 \"\"\"Secondly, this movie is the best cinematic masterpiece ever known to existence. \n",
    "Lastly, the adventures of two friends has NEVER been portrayed so accurately EVER in existence. \n",
    "Now the world can know what two friends do when they are together.\"\"\",\n",
    "                 \"\"\"Technically awe-inspiring, narratively inventive and thematically complex,  \n",
    "                 Dunkirk reinvigorates its genre with a war movie that is both harrowing and smart.\n",
    "                 This is a grand spectacle, not an empty one, a rare example of the Hollywood\n",
    "                 blockbuster dollar well spent.I'd go so far to say that Dunkirk could easily\n",
    "                 serve as its own master class in the art of film editing.\"\"\",\n",
    "                 \"\"\"The pleasure in Christopher Nolan’s latest film is equal parts in the grace\n",
    "                 of the visuals (cinematographer Hoyte van Hoytema nearly walks away with the\n",
    "                 whole film) and in its construction. The narrative of Dunkirk is relatively\n",
    "                 straightforward, but the way it’s put together recalls the simple joy of watching \n",
    "                 someone construct a puzzle box. The film focuses on a week, a day, and an hour \n",
    "                 during the Second World War, as over 300,000 Allied soldiers are evacuated from\n",
    "                 the beach at Dunkirk, France, where they were essentially sitting ducks for the\n",
    "                 German forces.\"\"\",\n",
    "                 \"\"\"His grip on direction, script , screenplay never loses that's identification\n",
    "                 of a great filmmaker . Performance wise cast did excellent work outstanding actors\n",
    "                 like  Mark raylance , celian Murphy , tom Hardy have made their strong impact by \n",
    "                 performances . This movie is must watch as it's a  great portrayal of war trauma \n",
    "                 our soldiers have faced , it makes them more respectable for the kind of sacrifice\n",
    "                 they made for their country . \"\"\",\n",
    "                 \"\"\"From the start until the end of the film, the audience are placed in the vicinity\n",
    "                 of the battle ground, where the harrowing and haunting events take place. The cinematography \n",
    "                 and mind-blowing music by Hans Zimmer distances the direction of this film from other\n",
    "                 war films, by building emotions that cannot be explained, nor be put into words. The\n",
    "                 very horrifying nature of war, without being graphically explicit, is depicted in \n",
    "                 every angle of this film whereby the demise of the character's is expected at \n",
    "                 any fraction of a second. \"\"\",\n",
    "                 \"\"\"Contrary to other war film's with heroic character's, this film remains realistic\n",
    "                 by reminding us that just like in life, the soldier's aren't necessarily Spartans or\n",
    "                 warrior's but more so, young, frightened adults who just want to get home. All in all, \n",
    "                 Dunkirk is easily the best historical cinematic masterpiece that has been created to \n",
    "                 date. If you want to see this piece of art from the right angle, then if possible, watch \n",
    "                 it on 70mm IMAX, as Nolan intended.\"\"\"\n",
    "                ]\n",
    "\n",
    "#print(len(movie_reviews))\n",
    "\n",
    "extrastop = ['``',\"''\",\"'re\",\"'s\",\"'re\",'``',\"''\",\"'ll\",\"--\",\"\\'\\'\",\"...\",\n",
    "             \"n\\'t\",'one','would','use','subject','from',\"\\'m\",\"\\'ve\"]\n",
    "myStopWords = list(punctuation) + stopwords.words('english') + extrastop\n",
    "\n",
    "movieReviewWords = []\n",
    "for i in movie_reviews:\n",
    "    movieReviewWords.append([w for w in word_tokenize(i.lower()) if w not in myStopWords])\n",
    "    \n",
    "#movieReviewWords\n",
    "from nltk.stem.porter import PorterStemmer\n",
    "#from nltk.stem import LancasterStemmer\n",
    "# Create p_stemmer of class PorterStemmer\n",
    "p_stemmer = PorterStemmer()\n",
    "\n",
    "listOfStemmedWords = []\n",
    "for i in movieReviewWords:\n",
    "    listOfStemmedWords.append([p_stemmer.stem(w) for w in i])\n",
    "    \n",
    "#listOfStemmedWords[0]\n",
    "\n",
    "!pip install gensim\n",
    "from gensim import corpora, models\n",
    "import gensim"
   ]
  },
  {
   "cell_type": "code",
   "execution_count": 42,
   "id": "851ebdd0-84ab-433a-a6ec-e218ab839f64",
   "metadata": {},
   "outputs": [
    {
     "name": "stdout",
     "output_type": "stream",
     "text": [
      "(0, '0.016*\"movi\" + 0.010*\"made\" + 0.010*\"like\" + 0.010*\"never\" + 0.007*\"soldier\" + 0.007*\"watch\" + 0.007*\"great\" + 0.007*\"perform\" + 0.007*\"portray\" + 0.007*\"bit\" + 0.007*\"make\" + 0.007*\"exist\" + 0.007*\"ever\" + 0.007*\"friend\" + 0.007*\"cinemat\" + 0.007*\"two\" + 0.007*\"see\" + 0.007*\"masterpiec\" + 0.007*\"want\" + 0.007*\"best\"')\n",
      "(1, '0.025*\"film\" + 0.013*\"dunkirk\" + 0.013*\"war\" + 0.010*\"put\" + 0.007*\"take\" + 0.007*\"kumar\" + 0.007*\"brutal\" + 0.007*\"go\" + 0.007*\"well\" + 0.007*\"harrow\" + 0.007*\"place\" + 0.007*\"second\" + 0.007*\"narr\" + 0.007*\"harold\" + 0.007*\"part\" + 0.007*\"’\" + 0.007*\"racial\" + 0.007*\"construct\" + 0.007*\"movi\" + 0.004*\"adventur\"')\n"
     ]
    }
   ],
   "source": [
    "dictionary = corpora.Dictionary(listOfStemmedWords)\n",
    "corpus = [dictionary.doc2bow(text) for text in listOfStemmedWords]\n",
    "ldamodel = gensim.models.ldamodel.LdaModel(corpus, \n",
    "                                           num_topics=2, \n",
    "                                           id2word = dictionary, \n",
    "                                           passes=20)\n",
    "for i in ldamodel.print_topics(num_topics=2, num_words=20):\n",
    "    print(i)"
   ]
  },
  {
   "cell_type": "markdown",
   "id": "502795f7-d02d-495b-9861-573b1f9d13df",
   "metadata": {},
   "source": [
    "Overall, the model was able to match the split between the comedies and the dramas. In the comedies section, there were words such as \"great\", \"friend\", \"best\"; and in the dramas section, there were words like \"war\", \"brutal\", and \"harrow\". Of course, there were a few words that did not fit in the category in which they were placed by the model, such as \"soldier\" in the comedies."
   ]
  },
  {
   "cell_type": "code",
   "execution_count": null,
   "id": "a3c688c3-e76e-4fc8-bd47-8527026e3d20",
   "metadata": {},
   "outputs": [],
   "source": []
  }
 ],
 "metadata": {
  "kernelspec": {
   "display_name": "Python 3 (ipykernel)",
   "language": "python",
   "name": "python3"
  },
  "language_info": {
   "codemirror_mode": {
    "name": "ipython",
    "version": 3
   },
   "file_extension": ".py",
   "mimetype": "text/x-python",
   "name": "python",
   "nbconvert_exporter": "python",
   "pygments_lexer": "ipython3",
   "version": "3.9.6"
  }
 },
 "nbformat": 4,
 "nbformat_minor": 5
}
