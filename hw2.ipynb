{
 "cells": [
  {
   "cell_type": "markdown",
   "id": "7488d81e-fb14-4f15-860a-9d0927e5daa3",
   "metadata": {
    "tags": []
   },
   "source": [
    "# Homework 2: Data Analysis of Billionaires Data\n",
    "\n",
    "## Larry Qu\n",
    "Dataset: https://corgis-edu.github.io/corgis/csv/billionaires/"
   ]
  },
  {
   "cell_type": "code",
   "execution_count": 9,
   "id": "d18bda46-d4c9-4dbf-bdef-fbcd6c296673",
   "metadata": {},
   "outputs": [
    {
     "name": "stdout",
     "output_type": "stream",
     "text": [
      "Out of the top 100 billionaires, there are 82 male and 18 non-male.\n"
     ]
    }
   ],
   "source": [
    "#6. module import\n",
    "import pandas as pd\n",
    "\n",
    "#1. commands to read the datafile\n",
    "myDf = pd.read_csv('billionaires.csv') #read the csv into a dataframe\n",
    "\n",
    "#out of the top 100 billionaires, see how many are male vs nonmale\n",
    "count = 0\n",
    "male = 0\n",
    "nonmale = 0\n",
    "\n",
    "#4. for loop\n",
    "for index, row in myDf.iterrows():\n",
    "    #3. conditional expression\n",
    "    if count >= 100:\n",
    "        break\n",
    "    if row['demographics.gender'] == \"male\":\n",
    "        #2. mathematical operation\n",
    "        male += 1\n",
    "    else:\n",
    "        nonmale += 1\n",
    "    count += 1\n",
    "    \n",
    "#print(male, nonmale) \n",
    "\n",
    "#5. function definition: compare men vs non-men billionaires\n",
    "def makeOutput(numMale, numNonMale):\n",
    "    return (\"Out of the top 100 billionaires, there are \" + str(numMale) + \n",
    "            \" male and \" + str(numNonMale) + \" non-male.\")\n",
    "\n",
    "#5. function execution\n",
    "print(makeOutput(male, nonmale))"
   ]
  },
  {
   "cell_type": "code",
   "execution_count": null,
   "id": "5bc10580-14ab-4d5a-be16-4593eefef1bb",
   "metadata": {},
   "outputs": [],
   "source": []
  }
 ],
 "metadata": {
  "kernelspec": {
   "display_name": "Python 3 (ipykernel)",
   "language": "python",
   "name": "python3"
  },
  "language_info": {
   "codemirror_mode": {
    "name": "ipython",
    "version": 3
   },
   "file_extension": ".py",
   "mimetype": "text/x-python",
   "name": "python",
   "nbconvert_exporter": "python",
   "pygments_lexer": "ipython3",
   "version": "3.9.6"
  }
 },
 "nbformat": 4,
 "nbformat_minor": 5
}
